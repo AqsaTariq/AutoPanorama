{
 "cells": [
  {
   "cell_type": "code",
   "execution_count": 8,
   "metadata": {},
   "outputs": [],
   "source": [
    "import cv2\n",
    "import matplotlib.pyplot as plt"
   ]
  },
  {
   "cell_type": "code",
   "execution_count": 5,
   "metadata": {},
   "outputs": [],
   "source": [
    "def display_image(img):\n",
    "    img2 = cv2.cvtColor(img, cv2.COLOR_BGR2RGB)\n",
    "    plt.imshow(img2)\n",
    "    plt.show()"
   ]
  },
  {
   "cell_type": "code",
   "execution_count": 4,
   "metadata": {},
   "outputs": [],
   "source": [
    "im_arr = []\n",
    "for i in range(4):\n",
    "    im_arr.append(cv2.imread('./' + str(i) + '_output.png'))"
   ]
  },
  {
   "cell_type": "code",
   "execution_count": 21,
   "metadata": {},
   "outputs": [
    {
     "data": {
      "text/plain": [
       "[0, 0, 0]"
      ]
     },
     "execution_count": 21,
     "metadata": {},
     "output_type": "execute_result"
    }
   ],
   "source": [
    "list(im_arr[0][1000][0])"
   ]
  },
  {
   "cell_type": "code",
   "execution_count": 93,
   "metadata": {},
   "outputs": [],
   "source": [
    "im = im_arr[2]"
   ]
  },
  {
   "cell_type": "code",
   "execution_count": 111,
   "metadata": {},
   "outputs": [],
   "source": [
    "def check_valid_neighbors(im, i, j):\n",
    "    valid_flag = False\n",
    "    for x in range(i-1, i+2):\n",
    "        for y in range(j-1, j+2):\n",
    "            if x <0 or y < 0:\n",
    "                continue\n",
    "            try:\n",
    "                if list(im[x][y]) != [0, 0, 0]:\n",
    "                    valid_flag = True\n",
    "            except:\n",
    "                pass\n",
    "    return valid_flag"
   ]
  },
  {
   "cell_type": "code",
   "execution_count": 112,
   "metadata": {},
   "outputs": [],
   "source": [
    "def dist_calc(i, j, x, y):\n",
    "    return (i-x) * (i-x) + (j-y) * (j-y)"
   ]
  },
  {
   "cell_type": "code",
   "execution_count": 117,
   "metadata": {},
   "outputs": [],
   "source": [
    "def find_corners(im):\n",
    "    curmin1 = max(im.shape[0], im.shape[1]) * max(im.shape[0], im.shape[1])\n",
    "    imin = im.shape[0]\n",
    "    jmin = im.shape[1]\n",
    "\n",
    "    curmin2 = max(im.shape[0], im.shape[1]) * max(im.shape[0], im.shape[1])\n",
    "    imax = 0\n",
    "    jmax = 0\n",
    "\n",
    "    curmin3 = max(im.shape[0], im.shape[1]) * max(im.shape[0], im.shape[1])\n",
    "    imin1 = im.shape[0]\n",
    "    jmax1 = 0\n",
    "\n",
    "    curmin4 = max(im.shape[0], im.shape[1]) * max(im.shape[0], im.shape[1])\n",
    "    imax1 = 0\n",
    "    jmin1 = im.shape[1]\n",
    "    for i in range(im.shape[0]):\n",
    "        for j in range(im.shape[1]):\n",
    "            if list(im[i][j]) == [0, 0, 0]:\n",
    "                dist1 = dist_calc(i, j, 0, 0) \n",
    "                #if i < imin or j < jmin:\n",
    "                if dist1 < curmin1:\n",
    "                    if check_valid_neighbors(im, i, j):\n",
    "                        curmin1 = dist1\n",
    "                        imin = i\n",
    "                        jmin = j\n",
    "                dist2 = dist_calc(i, j, im.shape[0]-1, im.shape[1]-1)\n",
    "                #if i > imax or j > jmax:\n",
    "                if dist2 < curmin2:\n",
    "                    if check_valid_neighbors(im, i, j):\n",
    "                        curmin2 = dist2\n",
    "                        imax = i\n",
    "                        jmax = j\n",
    "\n",
    "    for j in range(im.shape[1]):\n",
    "        for i in range(im.shape[0]):\n",
    "            if list(im[i][j]) == [0, 0, 0]:\n",
    "                dist3 = dist_calc(i, j, 0, im.shape[1]-1)\n",
    "                #if i < imin1 or j > jmax1:\n",
    "                if dist3 < curmin3:\n",
    "                    if check_valid_neighbors(im, i, j):\n",
    "                        curmin3 = dist3\n",
    "                        imin1 = i\n",
    "                        jmax1 = j\n",
    "                dist4 = dist_calc(i, j, im.shape[0]-1, 0)\n",
    "                if dist4 < curmin4:\n",
    "                #if i > imax1 or j < jmin1:\n",
    "                    if check_valid_neighbors(im, i, j):\n",
    "                        curmin4 = dist4\n",
    "                        imax1 = i\n",
    "                        jmin1 = j\n",
    "\n",
    "    if list(im[0][0]) != [0, 0, 0]:\n",
    "        imin = 0\n",
    "        jmin = 0\n",
    "\n",
    "    if list(im[0][im.shape[1]-1]) != [0, 0, 0]:\n",
    "        imin1 = 0\n",
    "        jmax1 = im.shape[1]-1\n",
    "\n",
    "    if list(im[im.shape[0]-1][0]) != [0, 0, 0]:\n",
    "        imax1 = im.shape[0]-1\n",
    "        jmin1 = 0\n",
    "\n",
    "    if list(im[im.shape[0]-1][im.shape[1]-1]) != [0, 0, 0]:\n",
    "        imax = im.shape[0]-1\n",
    "        jmax = im.shape[1]-1\n",
    "\n",
    "    return {\"Left Top\": (imin, jmin), \n",
    "            \"Right Top\": (imin1, jmax1), \n",
    "            \"Left Bottom\": (imax1, jmin1), \n",
    "            \"Right Bottom\": (imax, jmax)}"
   ]
  },
  {
   "cell_type": "code",
   "execution_count": 118,
   "metadata": {},
   "outputs": [
    {
     "data": {
      "text/plain": [
       "{'Left Top': (167, 0),\n",
       " 'Right Top': (0, 1656),\n",
       " 'Left Bottom': (918, 0),\n",
       " 'Right Bottom': (1188, 1656)}"
      ]
     },
     "execution_count": 118,
     "metadata": {},
     "output_type": "execute_result"
    }
   ],
   "source": [
    "a = find_corners(im)\n",
    "a"
   ]
  },
  {
   "cell_type": "code",
   "execution_count": null,
   "metadata": {},
   "outputs": [],
   "source": []
  }
 ],
 "metadata": {
  "kernelspec": {
   "display_name": "Python 3",
   "language": "python",
   "name": "python3"
  },
  "language_info": {
   "codemirror_mode": {
    "name": "ipython",
    "version": 3
   },
   "file_extension": ".py",
   "mimetype": "text/x-python",
   "name": "python",
   "nbconvert_exporter": "python",
   "pygments_lexer": "ipython3",
   "version": "3.7.2"
  }
 },
 "nbformat": 4,
 "nbformat_minor": 2
}
